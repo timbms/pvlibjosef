{
 "cells": [
  {
   "cell_type": "code",
   "execution_count": 12,
   "id": "589429d8-5397-4928-9ee7-3d515e90d339",
   "metadata": {},
   "outputs": [
    {
     "name": "stdout",
     "output_type": "stream",
     "text": [
      "       result  table                     _time  value\n",
      "0     _result      0 2023-03-27 19:47:00+00:00  619.0\n",
      "1     _result      0 2023-03-27 19:48:00+00:00  568.0\n",
      "2     _result      0 2023-03-27 19:49:00+00:00  546.0\n",
      "3     _result      0 2023-03-27 19:50:00+00:00  475.0\n",
      "4     _result      0 2023-03-27 19:51:00+00:00  515.0\n",
      "...       ...    ...                       ...    ...\n",
      "1436  _result      0 2023-03-28 19:43:00+00:00  316.0\n",
      "1437  _result      0 2023-03-28 19:44:00+00:00  449.0\n",
      "1438  _result      0 2023-03-28 19:45:00+00:00  375.0\n",
      "1439  _result      0 2023-03-28 19:46:00+00:00  395.0\n",
      "1440  _result      0 2023-03-28 19:46:16+00:00  402.0\n",
      "\n",
      "[1441 rows x 4 columns]\n"
     ]
    }
   ],
   "source": [
    "\n"
   ]
  },
  {
   "cell_type": "code",
   "execution_count": null,
   "id": "2e3f2e95-2d7e-47dd-91c9-32af27e6a4da",
   "metadata": {},
   "outputs": [],
   "source": []
  }
 ],
 "metadata": {
  "kernelspec": {
   "display_name": "Python 3 (ipykernel)",
   "language": "python",
   "name": "python3"
  },
  "language_info": {
   "codemirror_mode": {
    "name": "ipython",
    "version": 3
   },
   "file_extension": ".py",
   "mimetype": "text/x-python",
   "name": "python",
   "nbconvert_exporter": "python",
   "pygments_lexer": "ipython3",
   "version": "3.9.13"
  }
 },
 "nbformat": 4,
 "nbformat_minor": 5
}

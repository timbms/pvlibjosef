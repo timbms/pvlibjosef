{
 "cells": [
  {
   "cell_type": "code",
   "execution_count": 21,
   "id": "78acec74-489b-4fdf-b59f-9c14f7e9eb89",
   "metadata": {},
   "outputs": [],
   "source": [
    "import pandas as pd\n",
    "\n",
    "import numpy as np\n",
    "\n",
    "\n",
    "import pvlib\n",
    "\n",
    "from pvlib.pvsystem import PVSystem, FixedMount\n",
    "\n",
    "from pvlib.location import Location\n",
    "\n",
    "from pvlib.modelchain import ModelChain\n",
    "\n",
    "from pvlib.temperature import TEMPERATURE_MODEL_PARAMETERS\n",
    "\n",
    "temperature_model_parameters = TEMPERATURE_MODEL_PARAMETERS['sapm']['open_rack_glass_glass']\n",
    "\n",
    "\n",
    "sandia_modules = pvlib.pvsystem.retrieve_sam('SandiaMod')\n",
    "\n",
    "cec_inverters = pvlib.pvsystem.retrieve_sam('cecinverter')\n",
    "\n",
    "sandia_module = sandia_modules['Canadian_Solar_CS5P_220M___2009_']\n",
    "\n",
    "cec_inverter = cec_inverters['ABB__MICRO_0_25_I_OUTD_US_208__208V_']"
   ]
  },
  {
   "cell_type": "code",
   "execution_count": 22,
   "id": "3ac338ec-5de1-41aa-87a6-52802e1b3240",
   "metadata": {},
   "outputs": [],
   "source": [
    "location = Location(latitude=32.2, longitude=-110.9)\n",
    "\n",
    "system = PVSystem(surface_tilt=20, surface_azimuth=200,\n",
    "                  module_parameters=sandia_module,\n",
    "                  inverter_parameters=cec_inverter,\n",
    "                  temperature_model_parameters=temperature_model_parameters)\n",
    "\n",
    "\n",
    "mc = ModelChain(system, location)"
   ]
  },
  {
   "cell_type": "code",
   "execution_count": 25,
   "id": "5a9b1ba6-a044-4c0b-b02b-82655b65f058",
   "metadata": {},
   "outputs": [
    {
     "data": {
      "text/plain": [
       "ModelChain: \n",
       "  name: None\n",
       "  clearsky_model: ineichen\n",
       "  transposition_model: haydavies\n",
       "  solar_position_method: nrel_numpy\n",
       "  airmass_model: kastenyoung1989\n",
       "  dc_model: pvwatts_dc\n",
       "  ac_model: pvwatts_inverter\n",
       "  aoi_model: no_aoi_loss\n",
       "  spectral_model: no_spectral_loss\n",
       "  temperature_model: sapm_temp\n",
       "  losses_model: no_extra_losses"
      ]
     },
     "execution_count": 25,
     "metadata": {},
     "output_type": "execute_result"
    }
   ],
   "source": [
    "weather = pd.DataFrame([[1050, 1000, 100, 30, 5]],\n",
    "                       columns=['ghi', 'dni', 'dhi', 'temp_air', 'wind_speed'],\n",
    "                       index=[pd.Timestamp('20170401 1200', tz='US/Arizona')])\n",
    "\n",
    "\n",
    "mc.run_model(weather)"
   ]
  },
  {
   "cell_type": "code",
   "execution_count": 27,
   "id": "e090cd0d-753a-47a9-bd17-0228f92414a9",
   "metadata": {},
   "outputs": [
    {
     "data": {
      "text/plain": [
       "ModelChain: \n",
       "  name: None\n",
       "  clearsky_model: ineichen\n",
       "  transposition_model: haydavies\n",
       "  solar_position_method: nrel_numpy\n",
       "  airmass_model: kastenyoung1989\n",
       "  dc_model: pvwatts_dc\n",
       "  ac_model: pvwatts_inverter\n",
       "  aoi_model: no_aoi_loss\n",
       "  spectral_model: no_spectral_loss\n",
       "  temperature_model: sapm_temp\n",
       "  losses_model: no_extra_losses"
      ]
     },
     "execution_count": 27,
     "metadata": {},
     "output_type": "execute_result"
    }
   ],
   "source": [
    "from pvlib.pvsystem import Array\n",
    "\n",
    "location = Location(latitude=32.2, longitude=-110.9)\n",
    "\n",
    "inverter_parameters = {'pdc0': 10000, 'eta_inv_nom': 0.96}\n",
    "\n",
    "module_parameters = {'pdc0': 250, 'gamma_pdc': -0.004}\n",
    "\n",
    "array_one = Array(mount=FixedMount(surface_tilt=20, surface_azimuth=200),\n",
    "                  module_parameters=module_parameters,\n",
    "                  temperature_model_parameters=temperature_model_parameters,\n",
    "                  modules_per_string=10, strings=2)\n",
    "\n",
    "\n",
    "array_two = Array(mount=FixedMount(surface_tilt=20, surface_azimuth=160),\n",
    "                  module_parameters=module_parameters,\n",
    "                  temperature_model_parameters=temperature_model_parameters,\n",
    "                  modules_per_string=10, strings=2)\n",
    "\n",
    "\n",
    "system_two_arrays = PVSystem(arrays=[array_one, array_two],\n",
    "                             inverter_parameters={'pdc0': 8000})\n",
    "\n",
    "\n",
    "mc = ModelChain(system_two_arrays, location, aoi_model='no_loss',\n",
    "                spectral_model='no_loss')\n",
    "\n",
    "\n",
    "mc.run_model(weather)"
   ]
  },
  {
   "cell_type": "code",
   "execution_count": null,
   "id": "da88f8b0-76be-499e-b883-8c8f01c03eb7",
   "metadata": {},
   "outputs": [],
   "source": []
  },
  {
   "cell_type": "code",
   "execution_count": null,
   "id": "1180da08-0b0b-4986-8bdf-8aa3a8282e6f",
   "metadata": {},
   "outputs": [],
   "source": []
  }
 ],
 "metadata": {
  "kernelspec": {
   "display_name": "Python 3",
   "language": "python",
   "name": "python3"
  },
  "language_info": {
   "codemirror_mode": {
    "name": "ipython",
    "version": 3
   },
   "file_extension": ".py",
   "mimetype": "text/x-python",
   "name": "python",
   "nbconvert_exporter": "python",
   "pygments_lexer": "ipython3",
   "version": "3.9.6"
  }
 },
 "nbformat": 4,
 "nbformat_minor": 5
}

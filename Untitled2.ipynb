{
 "cells": [
  {
   "cell_type": "code",
   "execution_count": 4,
   "id": "cb6a416e-1a53-4846-8cab-59eb46b02564",
   "metadata": {},
   "outputs": [
    {
     "ename": "NameError",
     "evalue": "name 'FixedMount' is not defined",
     "output_type": "error",
     "traceback": [
      "\u001b[0;31m---------------------------------------------------------------------------\u001b[0m",
      "\u001b[0;31mNameError\u001b[0m                                 Traceback (most recent call last)",
      "Cell \u001b[0;32mIn[4], line 11\u001b[0m\n\u001b[1;32m      7\u001b[0m inverter_parameters \u001b[38;5;241m=\u001b[39m {\u001b[38;5;124m'\u001b[39m\u001b[38;5;124mpdc0\u001b[39m\u001b[38;5;124m'\u001b[39m: \u001b[38;5;241m10000\u001b[39m, \u001b[38;5;124m'\u001b[39m\u001b[38;5;124meta_inv_nom\u001b[39m\u001b[38;5;124m'\u001b[39m: \u001b[38;5;241m0.96\u001b[39m}\n\u001b[1;32m      9\u001b[0m module_parameters \u001b[38;5;241m=\u001b[39m {\u001b[38;5;124m'\u001b[39m\u001b[38;5;124mpdc0\u001b[39m\u001b[38;5;124m'\u001b[39m: \u001b[38;5;241m250\u001b[39m, \u001b[38;5;124m'\u001b[39m\u001b[38;5;124mgamma_pdc\u001b[39m\u001b[38;5;124m'\u001b[39m: \u001b[38;5;241m-\u001b[39m\u001b[38;5;241m0.004\u001b[39m}\n\u001b[0;32m---> 11\u001b[0m array_one \u001b[38;5;241m=\u001b[39m pvsystem\u001b[38;5;241m.\u001b[39mArray(mount\u001b[38;5;241m=\u001b[39m\u001b[43mFixedMount\u001b[49m(surface_tilt\u001b[38;5;241m=\u001b[39m\u001b[38;5;241m20\u001b[39m, surface_azimuth\u001b[38;5;241m=\u001b[39m\u001b[38;5;241m200\u001b[39m),\n\u001b[1;32m     12\u001b[0m                   module_parameters\u001b[38;5;241m=\u001b[39mmodule_parameters,\n\u001b[1;32m     13\u001b[0m                   temperature_model_parameters\u001b[38;5;241m=\u001b[39mtemperature_model_parameters,\n\u001b[1;32m     14\u001b[0m                   modules_per_string\u001b[38;5;241m=\u001b[39m\u001b[38;5;241m10\u001b[39m, strings\u001b[38;5;241m=\u001b[39m\u001b[38;5;241m2\u001b[39m)\n\u001b[1;32m     17\u001b[0m array_two \u001b[38;5;241m=\u001b[39m pvsystem\u001b[38;5;241m.\u001b[39mArray(mount\u001b[38;5;241m=\u001b[39mFixedMount(surface_tilt\u001b[38;5;241m=\u001b[39m\u001b[38;5;241m20\u001b[39m, surface_azimuth\u001b[38;5;241m=\u001b[39m\u001b[38;5;241m160\u001b[39m),\n\u001b[1;32m     18\u001b[0m                   module_parameters\u001b[38;5;241m=\u001b[39mmodule_parameters,\n\u001b[1;32m     19\u001b[0m                   temperature_model_parameters\u001b[38;5;241m=\u001b[39mtemperature_model_parameters,\n\u001b[1;32m     20\u001b[0m                   modules_per_string\u001b[38;5;241m=\u001b[39m\u001b[38;5;241m10\u001b[39m, strings\u001b[38;5;241m=\u001b[39m\u001b[38;5;241m2\u001b[39m)\n\u001b[1;32m     23\u001b[0m system_two_arrays \u001b[38;5;241m=\u001b[39m PVSystem(arrays\u001b[38;5;241m=\u001b[39m[array_one, array_two],\n\u001b[1;32m     24\u001b[0m                              inverter_parameters\u001b[38;5;241m=\u001b[39m{\u001b[38;5;124m'\u001b[39m\u001b[38;5;124mpdc0\u001b[39m\u001b[38;5;124m'\u001b[39m: \u001b[38;5;241m8000\u001b[39m})\n",
      "\u001b[0;31mNameError\u001b[0m: name 'FixedMount' is not defined"
     ]
    }
   ],
   "source": [
    "from pvlib import pvsystem, modelchain, location\n",
    "from pvlib.location import Location\n",
    "\n",
    "\n",
    "location = Location(latitude=48.01820, longitude=11.5941)\n",
    "\n",
    "inverter_parameters = {'pdc0': 10000, 'eta_inv_nom': 0.96}\n",
    "\n",
    "module_parameters = {'pdc0': 250, 'gamma_pdc': -0.004}\n",
    "\n",
    "array_one = pvsystem.Array(mount=FixedMount(surface_tilt=20, surface_azimuth=200),\n",
    "                  module_parameters=module_parameters,\n",
    "                  temperature_model_parameters=temperature_model_parameters,\n",
    "                  modules_per_string=10, strings=2)\n",
    "\n",
    "\n",
    "array_two = pvsystem.Array(mount=FixedMount(surface_tilt=20, surface_azimuth=160),\n",
    "                  module_parameters=module_parameters,\n",
    "                  temperature_model_parameters=temperature_model_parameters,\n",
    "                  modules_per_string=10, strings=2)\n",
    "\n",
    "\n",
    "system_two_arrays = PVSystem(arrays=[array_one, array_two],\n",
    "                             inverter_parameters={'pdc0': 8000})\n",
    "\n",
    "\n",
    "mc = ModelChain(system_two_arrays, location, aoi_model='no_loss',\n",
    "                spectral_model='no_loss')\n",
    "\n",
    "\n",
    "mc.run_model(weather)"
   ]
  },
  {
   "cell_type": "code",
   "execution_count": 5,
   "id": "fa9d5cfc-cb24-4fcd-b5ee-7cc8ba76469e",
   "metadata": {},
   "outputs": [
    {
     "name": "stdout",
     "output_type": "stream",
     "text": [
      "\u001b[0;31mSignature:\u001b[0m\n",
      "\u001b[0mlocation\u001b[0m\u001b[0;34m.\u001b[0m\u001b[0mget_clearsky\u001b[0m\u001b[0;34m(\u001b[0m\u001b[0;34m\u001b[0m\n",
      "\u001b[0;34m\u001b[0m    \u001b[0mtimes\u001b[0m\u001b[0;34m,\u001b[0m\u001b[0;34m\u001b[0m\n",
      "\u001b[0;34m\u001b[0m    \u001b[0mmodel\u001b[0m\u001b[0;34m=\u001b[0m\u001b[0;34m'ineichen'\u001b[0m\u001b[0;34m,\u001b[0m\u001b[0;34m\u001b[0m\n",
      "\u001b[0;34m\u001b[0m    \u001b[0msolar_position\u001b[0m\u001b[0;34m=\u001b[0m\u001b[0;32mNone\u001b[0m\u001b[0;34m,\u001b[0m\u001b[0;34m\u001b[0m\n",
      "\u001b[0;34m\u001b[0m    \u001b[0mdni_extra\u001b[0m\u001b[0;34m=\u001b[0m\u001b[0;32mNone\u001b[0m\u001b[0;34m,\u001b[0m\u001b[0;34m\u001b[0m\n",
      "\u001b[0;34m\u001b[0m    \u001b[0;34m**\u001b[0m\u001b[0mkwargs\u001b[0m\u001b[0;34m,\u001b[0m\u001b[0;34m\u001b[0m\n",
      "\u001b[0;34m\u001b[0m\u001b[0;34m)\u001b[0m\u001b[0;34m\u001b[0m\u001b[0;34m\u001b[0m\u001b[0m\n",
      "\u001b[0;31mDocstring:\u001b[0m\n",
      "Calculate the clear sky estimates of GHI, DNI, and/or DHI\n",
      "at this location.\n",
      "\n",
      "Parameters\n",
      "----------\n",
      "times: DatetimeIndex\n",
      "model: str, default 'ineichen'\n",
      "    The clear sky model to use. Must be one of\n",
      "    'ineichen', 'haurwitz', 'simplified_solis'.\n",
      "solar_position : DataFrame, optional\n",
      "    DataFrame with columns 'apparent_zenith', 'zenith',\n",
      "    'apparent_elevation'.\n",
      "dni_extra : numeric, optional\n",
      "    If not specified, will be calculated from times.\n",
      "\n",
      "kwargs\n",
      "    Extra parameters passed to the relevant functions. Climatological\n",
      "    values are assumed in many cases. See source code for details!\n",
      "\n",
      "Returns\n",
      "-------\n",
      "clearsky : DataFrame\n",
      "    Column names are: ``ghi, dni, dhi``.\n",
      "\u001b[0;31mFile:\u001b[0m      ~/Library/Python/3.9/lib/python/site-packages/pvlib/location.py\n",
      "\u001b[0;31mType:\u001b[0m      method"
     ]
    }
   ],
   "source": [
    "location.get_clearsky?\n"
   ]
  },
  {
   "cell_type": "code",
   "execution_count": null,
   "id": "944ec0b5-aac8-4a17-814b-3e61d4d7a80a",
   "metadata": {},
   "outputs": [],
   "source": []
  }
 ],
 "metadata": {
  "kernelspec": {
   "display_name": "Python 3",
   "language": "python",
   "name": "python3"
  },
  "language_info": {
   "codemirror_mode": {
    "name": "ipython",
    "version": 3
   },
   "file_extension": ".py",
   "mimetype": "text/x-python",
   "name": "python",
   "nbconvert_exporter": "python",
   "pygments_lexer": "ipython3",
   "version": "3.9.6"
  }
 },
 "nbformat": 4,
 "nbformat_minor": 5
}

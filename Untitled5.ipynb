{
 "cells": [
  {
   "cell_type": "code",
   "execution_count": 3,
   "id": "14ae15d3-1b82-4f45-b9bf-b3f2d570aebe",
   "metadata": {},
   "outputs": [],
   "source": [
    "from influxdb_client import InfluxDBClient, Point\n",
    "from influxdb_client.client.write_api import SYNCHRONOUS\n",
    "\n",
    "mybucket = \"josefpi4\"\n",
    "mytoken = \"yP0K9vvgVsJb8OA3NIBz6H0le1eNnT9lz_G0lC1-2XzMg57CyDoZGi6blbnhpxi-ahn0hzrj3vva9y0HoSrocQ==\"\n",
    "myorg = \"josefpi4\"\n",
    "\n",
    "client = InfluxDBClient(url=\"http://192.168.2.40:8086\", token=mytoken, org=myorg)\n",
    "\n",
    "write_api = client.write_api(write_options=SYNCHRONOUS)\n",
    "query_api = client.query_api()\n",
    "\n",
    "p = Point(\"\").tag(\"location\", \"Prague\").field(\"temperature\", 25.3)\n",
    "\n",
    "write_api.write(bucket=mybucket, record=p)"
   ]
  },
  {
   "cell_type": "code",
   "execution_count": null,
   "id": "37a7fe4b-90e3-4619-b6a2-9d07a25566cb",
   "metadata": {},
   "outputs": [],
   "source": []
  }
 ],
 "metadata": {
  "kernelspec": {
   "display_name": "Python 3 (ipykernel)",
   "language": "python",
   "name": "python3"
  },
  "language_info": {
   "codemirror_mode": {
    "name": "ipython",
    "version": 3
   },
   "file_extension": ".py",
   "mimetype": "text/x-python",
   "name": "python",
   "nbconvert_exporter": "python",
   "pygments_lexer": "ipython3",
   "version": "3.9.13"
  }
 },
 "nbformat": 4,
 "nbformat_minor": 5
}

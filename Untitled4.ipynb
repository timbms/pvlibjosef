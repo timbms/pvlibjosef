{
 "cells": [
  {
   "cell_type": "code",
   "execution_count": 5,
   "id": "294de795-dee9-4ff3-b2bf-ca2ca6808a43",
   "metadata": {},
   "outputs": [],
   "source": [
    "import pytz"
   ]
  },
  {
   "cell_type": "code",
   "execution_count": 8,
   "id": "ef1c7cc6-1ffc-46a2-856c-c962e2a53130",
   "metadata": {},
   "outputs": [
    {
     "data": {
      "text/plain": [
       "['Africa/Abidjan',\n",
       " 'Africa/Douala',\n",
       " 'Africa/Mbabane',\n",
       " 'America/Argentina/Catamarca',\n",
       " 'America/Belize',\n",
       " 'America/Cuiaba',\n",
       " 'America/Guadeloupe',\n",
       " 'America/Juneau',\n",
       " 'America/Metlakatla',\n",
       " 'America/Paramaribo',\n",
       " 'America/Scoresbysund',\n",
       " 'America/Yakutat',\n",
       " 'Asia/Aqtobe',\n",
       " 'Asia/Dhaka',\n",
       " 'Asia/Kathmandu',\n",
       " 'Asia/Pontianak',\n",
       " 'Asia/Thimphu',\n",
       " 'Atlantic/Jan_Mayen',\n",
       " 'Australia/North',\n",
       " 'Canada/Pacific',\n",
       " 'Etc/GMT+5',\n",
       " 'Etc/GMT0',\n",
       " 'Europe/Dublin',\n",
       " 'Europe/Moscow',\n",
       " 'Europe/Uzhgorod',\n",
       " 'Indian/Antananarivo',\n",
       " 'Mexico/BajaNorte',\n",
       " 'Pacific/Gambier',\n",
       " 'Pacific/Ponape',\n",
       " 'US/Aleutian']"
      ]
     },
     "execution_count": 8,
     "metadata": {},
     "output_type": "execute_result"
    }
   ],
   "source": [
    "pytz.all_timezones[::20]"
   ]
  },
  {
   "cell_type": "code",
   "execution_count": 13,
   "id": "ef94e271-d08c-4d1e-937d-4ebdb33c80c9",
   "metadata": {},
   "outputs": [
    {
     "ename": "ModuleNotFoundError",
     "evalue": "No module named 'pvlib.forecast'",
     "output_type": "error",
     "traceback": [
      "\u001b[0;31m---------------------------------------------------------------------------\u001b[0m",
      "\u001b[0;31mModuleNotFoundError\u001b[0m                       Traceback (most recent call last)",
      "Cell \u001b[0;32mIn[13], line 9\u001b[0m\n\u001b[1;32m      5\u001b[0m \u001b[38;5;28;01mfrom\u001b[39;00m \u001b[38;5;21;01mpvlib\u001b[39;00m\u001b[38;5;21;01m.\u001b[39;00m\u001b[38;5;21;01mtracking\u001b[39;00m \u001b[38;5;28;01mimport\u001b[39;00m singleaxis\n\u001b[1;32m      7\u001b[0m \u001b[38;5;28;01mfrom\u001b[39;00m \u001b[38;5;21;01mpvlib\u001b[39;00m\u001b[38;5;21;01m.\u001b[39;00m\u001b[38;5;21;01mmodelchain\u001b[39;00m \u001b[38;5;28;01mimport\u001b[39;00m ModelChain\n\u001b[0;32m----> 9\u001b[0m \u001b[38;5;28;01mfrom\u001b[39;00m \u001b[38;5;21;01mpvlib\u001b[39;00m\u001b[38;5;21;01m.\u001b[39;00m\u001b[38;5;21;01mforecast\u001b[39;00m \u001b[38;5;28;01mimport\u001b[39;00m GFS, NAM, NDFD, HRRR, RAP\n\u001b[1;32m     11\u001b[0m \u001b[38;5;28;01mimport\u001b[39;00m \u001b[38;5;21;01mpandas\u001b[39;00m \u001b[38;5;28;01mas\u001b[39;00m \u001b[38;5;21;01mpd\u001b[39;00m\n\u001b[1;32m     13\u001b[0m \u001b[38;5;28;01mimport\u001b[39;00m \u001b[38;5;21;01mmatplotlib\u001b[39;00m\u001b[38;5;21;01m.\u001b[39;00m\u001b[38;5;21;01mpyplot\u001b[39;00m \u001b[38;5;28;01mas\u001b[39;00m \u001b[38;5;21;01mplt\u001b[39;00m\n",
      "\u001b[0;31mModuleNotFoundError\u001b[0m: No module named 'pvlib.forecast'"
     ]
    }
   ],
   "source": [
    "from pvlib.pvsystem import PVSystem, retrieve_sam\n",
    "\n",
    "from pvlib.temperature import TEMPERATURE_MODEL_PARAMETERS\n",
    "\n",
    "from pvlib.tracking import singleaxis\n",
    "\n",
    "from pvlib.modelchain import ModelChain\n",
    "\n",
    "from pvlib.forecast import GFS, NAM, NDFD, HRRR, RAP\n",
    "\n",
    "import pandas as pd\n",
    "\n",
    "import matplotlib.pyplot as plt\n",
    "\n",
    "import datetime\n",
    "\n",
    "latitude, longitude, tz = 32.2, -110.9, 'US/Arizona'\n",
    "\n",
    "\n",
    "sandia_modules = retrieve_sam('sandiamod')\n",
    "\n",
    "cec_inverters = retrieve_sam('cecinverter')\n",
    "\n",
    "module = sandia_modules['Canadian_Solar_CS5P_220M___2009_']\n",
    "\n",
    "inverter = cec_inverters['SMA_America__SC630CP_US__with_ABB_EcoDry_Ultra_transformer_']\n",
    "\n",
    "temperature_model_parameters = TEMPERATURE_MODEL_PARAMETERS['sapm']['open_rack_glass_glass']\n",
    "\n",
    "\n",
    "system = SingleAxisTracker(module_parameters=module, inverter_parameters=inverter, temperature_model_parameters=temperature_model_parameters, modules_per_string=15, strings_per_inverter=300)\n",
    "\n",
    "\n",
    "start = pd.Timestamp(datetime.date.today(), tz=tz)\n",
    "\n",
    "end = start + pd.Timedelta(days=7)\n",
    "\n",
    "irrad_vars = ['ghi', 'dni', 'dhi']\n",
    "\n",
    "fx_model = GFS()\n",
    "\n",
    "fx_data = fx_model.get_processed_data(latitude, longitude, start, end)"
   ]
  },
  {
   "cell_type": "code",
   "execution_count": null,
   "id": "56720c2e-ed0c-499c-b057-94a5739711dd",
   "metadata": {},
   "outputs": [],
   "source": []
  }
 ],
 "metadata": {
  "kernelspec": {
   "display_name": "Python 3",
   "language": "python",
   "name": "python3"
  },
  "language_info": {
   "codemirror_mode": {
    "name": "ipython",
    "version": 3
   },
   "file_extension": ".py",
   "mimetype": "text/x-python",
   "name": "python",
   "nbconvert_exporter": "python",
   "pygments_lexer": "ipython3",
   "version": "3.9.6"
  }
 },
 "nbformat": 4,
 "nbformat_minor": 5
}
